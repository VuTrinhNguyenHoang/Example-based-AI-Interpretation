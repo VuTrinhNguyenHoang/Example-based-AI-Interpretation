{
 "cells": [
  {
   "cell_type": "markdown",
   "id": "ddb8af36",
   "metadata": {},
   "source": [
    "# Import libraries"
   ]
  },
  {
   "cell_type": "code",
   "execution_count": null,
   "id": "c276c998",
   "metadata": {},
   "outputs": [],
   "source": [
    "import tensorflow as tf\n",
    "import numpy as np\n",
    "import pandas as pd\n",
    "from tqdm.notebook import tqdm\n",
    "from sklearn.linear_model import LinearRegression\n",
    "from sklearn.metrics import mean_squared_error\n",
    "from sklearn.neighbors import KNeighborsRegressor\n",
    "from sklearn.neural_network import MLPRegressor\n",
    "import matplotlib.pyplot as plt\n",
    "\n",
    "np.random.seed(42)"
   ]
  },
  {
   "cell_type": "markdown",
   "id": "f393dc7a",
   "metadata": {},
   "source": [
    "# Methods"
   ]
  },
  {
   "cell_type": "markdown",
   "id": "c4f99dc9",
   "metadata": {},
   "source": [
    "## Global"
   ]
  },
  {
   "cell_type": "code",
   "execution_count": null,
   "id": "e26ba6e9",
   "metadata": {},
   "outputs": [],
   "source": [
    "from ..src.methods.compute_global import compute_sens, compute_ptb_regression as compute_ptb, compute_cw"
   ]
  },
  {
   "cell_type": "markdown",
   "id": "7dd60714",
   "metadata": {},
   "source": [
    "## Local"
   ]
  },
  {
   "cell_type": "code",
   "execution_count": null,
   "id": "8f716b1e",
   "metadata": {},
   "outputs": [],
   "source": [
    "from ..src.methods.compute_local import compute_llm_regression as compute_llm, compute_c_hp_regression as compute_c_hp"
   ]
  },
  {
   "cell_type": "markdown",
   "id": "a7dad817",
   "metadata": {},
   "source": [
    "# Experiment"
   ]
  },
  {
   "cell_type": "code",
   "execution_count": null,
   "id": "6521c281",
   "metadata": {},
   "outputs": [],
   "source": [
    "from ..src.utils.extractor import extract_raw_features\n",
    "\n",
    "def save_history(dataset, history):\n",
    "    plt.figure(figsize=(12, 5))\n",
    "\n",
    "    plt.plot(history.history['loss'], label='Train Loss')\n",
    "    plt.plot(history.history['val_loss'], label='Validation Loss')\n",
    "    plt.xlabel('Epoch')\n",
    "    plt.ylabel('Loss')\n",
    "    plt.title('Loss During Training')\n",
    "    plt.legend()\n",
    "\n",
    "    plt.tight_layout()\n",
    "    plt.savefig(f'{dataset}_during_train.png')"
   ]
  },
  {
   "cell_type": "code",
   "execution_count": null,
   "id": "66d774fc",
   "metadata": {},
   "outputs": [],
   "source": [
    "# MLP\n",
    "def build_mlp(input_dim, hidden_units, output_dim=1):\n",
    "    inputs = tf.keras.Input(shape=(input_dim,))\n",
    "    hidden = tf.keras.layers.Dense(hidden_units, activation='relu', name='hidden')(inputs)\n",
    "    output = tf.keras.layers.Dense(output_dim, name='output')(hidden)\n",
    "\n",
    "    model = tf.keras.Model(inputs=inputs, outputs=output)\n",
    "    model.compile(optimizer='adam', loss='mse')\n",
    "    return model"
   ]
  },
  {
   "cell_type": "code",
   "execution_count": null,
   "id": "cfd695cc",
   "metadata": {},
   "outputs": [],
   "source": [
    "def rmse(mse):\n",
    "    return np.sqrt(mse)\n",
    "\n",
    "def experiment(url_train, url_test):\n",
    "    df_train = pd.read_csv(url_train)\n",
    "    df_test = pd.read_csv(url_test)\n",
    "\n",
    "    target = df_train.columns[-1]\n",
    "    X_train, X_test = df_train.drop(columns=[target]).values.astype(float), df_test.drop(columns=[target]).values.astype(float)\n",
    "    y_train, y_test = df_train[target].values, df_test[target].values\n",
    "\n",
    "    # Train MLP\n",
    "    model = build_mlp(X_train.shape[1], 128)\n",
    "    history = model.fit(X_train, y_train, epochs=500, batch_size=128, validation_split=0.1)\n",
    "    y_pred_test = model.predict(X_test)\n",
    "    y_pred_train = model.predict(X_train)\n",
    "    rmse_mlp = rmse(mean_squared_error(y_test, y_pred_test))\n",
    "    \n",
    "    # Train k-NN*\n",
    "    X_train_raw = extract_raw_features(model, X_train)\n",
    "    X_test_raw = extract_raw_features(model, X_test)\n",
    "    \n",
    "    knn = KNeighborsRegressor(n_neighbors=1)\n",
    "    knn.fit(X_train_raw, y_pred_train)\n",
    "    y_pred_knn = knn.predict(X_test_raw)\n",
    "    rmse_knn = rmse(mean_squared_error(y_test, y_pred_knn))\n",
    "    rmse_mlp_knn = rmse(mean_squared_error(y_pred_test, y_pred_knn))\n",
    "    \n",
    "    metric = {\n",
    "        'rmse': rmse_mlp,\n",
    "        'rmse_k-NN*': rmse_knn,\n",
    "        'rmse_mlp_knn': rmse_mlp_knn\n",
    "    }\n",
    "\n",
    "    # Train k-NN SENS\n",
    "    sens = compute_sens(model, X_train)\n",
    "    scaling = np.sqrt(np.abs(sens))\n",
    "    weights_train = X_train * scaling\n",
    "    weights_test = X_test * scaling\n",
    "\n",
    "    knn_weighted = KNeighborsRegressor(n_neighbors=1)\n",
    "    knn_weighted.fit(weights_train, y_pred_train)\n",
    "    y_pred_weighted = knn_weighted.predict(weights_test)\n",
    "    rmse_weighted = rmse(mean_squared_error(y_test, y_pred_weighted))\n",
    "    rmse_weighted_mlp = rmse(mean_squared_error(y_pred_test, y_pred_weighted))\n",
    "\n",
    "    metric['rmse_sens'] = rmse_weighted\n",
    "    metric['rmse_mlp_sens'] = rmse_weighted_mlp\n",
    "\n",
    "    # Train k-NN PTB\n",
    "    ptb = compute_ptb(model, X_train)\n",
    "    scaling = np.sqrt(np.abs(ptb))\n",
    "    weights_train = X_train * scaling\n",
    "    weights_test = X_test * scaling\n",
    "\n",
    "    knn_weighted = KNeighborsRegressor(n_neighbors=1)\n",
    "    knn_weighted.fit(weights_train, y_pred_train)\n",
    "    y_pred_weighted = knn_weighted.predict(weights_test)\n",
    "    rmse_weighted = rmse(mean_squared_error(y_test, y_pred_weighted))\n",
    "    rmse_weighted_mlp = rmse(mean_squared_error(y_pred_test, y_pred_weighted))\n",
    "\n",
    "    metric['rmse_ptb'] = rmse_weighted\n",
    "    metric['rmse_mlp_ptb'] = rmse_weighted_mlp\n",
    "\n",
    "    # Train k-NN CW\n",
    "    cw = compute_cw(model)\n",
    "    scaling = np.sqrt(np.abs(cw))\n",
    "    weights_train = X_train * scaling\n",
    "    weights_test = X_test * scaling\n",
    "\n",
    "    knn_weighted = KNeighborsRegressor(n_neighbors=1)\n",
    "    knn_weighted.fit(weights_train, y_pred_train)\n",
    "    y_pred_weighted = knn_weighted.predict(weights_test)\n",
    "    rmse_weighted = rmse(mean_squared_error(y_test, y_pred_weighted))\n",
    "    rmse_weighted_mlp = rmse(mean_squared_error(y_pred_test, y_pred_weighted))\n",
    "\n",
    "    metric['rmse_cw'] = rmse_weighted\n",
    "    metric['rmse_mlp_cw'] = rmse_weighted_mlp\n",
    "\n",
    "    # Train k-NN LLM\n",
    "    weights_train = np.array([compute_llm(model, x) for x in tqdm(X_train)])\n",
    "    weights_test = np.array([compute_llm(model, x) for x in tqdm(X_test)])\n",
    "\n",
    "    knn_weighted = KNeighborsRegressor(n_neighbors=1)\n",
    "    knn_weighted.fit(weights_train, y_pred_train)\n",
    "    y_pred_weighted = knn_weighted.predict(weights_test)\n",
    "    rmse_weighted = rmse(mean_squared_error(y_test, y_pred_weighted))\n",
    "    rmse_weighted_mlp = rmse(mean_squared_error(y_pred_test, y_pred_weighted))\n",
    "\n",
    "    metric['rmse_llm'] = rmse_weighted\n",
    "    metric['rmse_mlp_llm'] = rmse_weighted_mlp\n",
    "\n",
    "    # Train k-NN C-HP\n",
    "    weights_train = np.array([compute_c_hp(model, x) for x in tqdm(X_train)])\n",
    "    weights_test = np.array([compute_c_hp(model, x) for x in tqdm(X_test)])\n",
    "\n",
    "    knn_weighted = KNeighborsRegressor(n_neighbors=1)\n",
    "    knn_weighted.fit(weights_train, y_pred_train)\n",
    "    y_pred_weighted = knn_weighted.predict(weights_test)\n",
    "    rmse_weighted = rmse(mean_squared_error(y_test, y_pred_weighted))\n",
    "    rmse_weighted_mlp = rmse(mean_squared_error(y_pred_test, y_pred_weighted))\n",
    "\n",
    "    metric['rmse_chp'] = rmse_weighted\n",
    "    metric['rmse_mlp_chp'] = rmse_weighted_mlp\n",
    "    \n",
    "    return model, history, metric"
   ]
  },
  {
   "cell_type": "code",
   "execution_count": null,
   "id": "346d5f04",
   "metadata": {},
   "outputs": [],
   "source": [
    "dataset_names = ['bike_sharing', 'blog_feedback']\n",
    "metrics = []\n",
    "\n",
    "for dataset in dataset_names:\n",
    "    url_train = f'/kaggle/input/mlp-cbr-regression/{dataset}_train.csv'\n",
    "    url_test = f'/kaggle/input/mlp-cbr-regression/{dataset}_test.csv'\n",
    "\n",
    "    model, history, metric = experiment(url_train, url_test)\n",
    "    \n",
    "    save_history(dataset, history)\n",
    "    metric['Dataset'] = dataset\n",
    "    metrics.append(metric)"
   ]
  },
  {
   "cell_type": "code",
   "execution_count": null,
   "id": "1609d69d",
   "metadata": {},
   "outputs": [],
   "source": [
    "df = pd.DataFrame(metrics)\n",
    "df.head()"
   ]
  }
 ],
 "metadata": {
  "language_info": {
   "name": "python"
  }
 },
 "nbformat": 4,
 "nbformat_minor": 5
}
